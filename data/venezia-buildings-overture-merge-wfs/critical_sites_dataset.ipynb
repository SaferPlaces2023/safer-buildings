{
 "cells": [
  {
   "cell_type": "code",
   "execution_count": 18,
   "id": "90ead329",
   "metadata": {},
   "outputs": [],
   "source": [
    "import os\n",
    "import logging\n",
    "import numpy as np\n",
    "import pandas as pd\n",
    "import geopandas as gpd\n",
    "import matplotlib.pyplot as plt\n",
    "\n",
    "from shapely.geometry import box, Polygon, MultiPolygon\n",
    "from shapely.strtree import STRtree\n",
    "\n",
    "# REF: https://github.com/SaferPlaces2023/safer-buildings → `pip install git+https://github.com/SaferPlaces2023/safer-buildings.git#egg=safer-buildings[with_gdal_py3**]`\n",
    "from safer_buildings import _consts, _utils\n",
    "from safer_buildings import filesystem\n",
    "from safer_buildings import module_retriever, module_s3, module_log\n",
    "\n",
    "import importlib\n",
    "_ = importlib.reload(_consts)\n",
    "_ = importlib.reload(_utils)"
   ]
  },
  {
   "cell_type": "code",
   "execution_count": 10,
   "id": "b8a29c8f",
   "metadata": {},
   "outputs": [],
   "source": [
    "module_log.Logger.setLevel(logging.DEBUG)"
   ]
  },
  {
   "cell_type": "code",
   "execution_count": 11,
   "id": "15de9e45",
   "metadata": {},
   "outputs": [
    {
     "name": "stderr",
     "output_type": "stream",
     "text": [
      "[2025-08-12 18:59:47] [DEBUG   ] ### Retrieved 152797 features from c0107057_grafostrade VENEZIA-WFS service.\n",
      "[2025-08-12 18:59:47] [DEBUG   ] ### Retrieved 15 features from v_pc_p0104031_prontosoccorso VENEZIA-WFS service.\n",
      "[2025-08-12 18:59:48] [DEBUG   ] ### Retrieved 768 features from v_pc_p0106011_scuole VENEZIA-WFS service.\n",
      "[2025-08-12 18:59:48] [DEBUG   ] ### Retrieved 470 features from v_pc_p0106021_stadi VENEZIA-WFS service.\n",
      "[2025-08-12 18:59:48] [DEBUG   ] ### Retrieved 152 features from v_pc_p0106031_strutturesanitarie VENEZIA-WFS service.\n",
      "[2025-08-12 18:59:48] [DEBUG   ] ### Retrieved 117 features from v_pc_p0106041_casecura VENEZIA-WFS service.\n",
      "[2025-08-12 18:59:49] [DEBUG   ] ### Retrieved 164 features from v_pc_p0106051_edificirilevantigenerici VENEZIA-WFS service.\n",
      "[2025-08-12 18:59:49] [DEBUG   ] ### Retrieved 126 features from v_pc_p0106061_centricommerciali VENEZIA-WFS service.\n",
      "[2025-08-12 18:59:49] [DEBUG   ] ### Retrieved 179 features from v_pc_p0106071_museibiblioteche VENEZIA-WFS service.\n",
      "[2025-08-12 18:59:50] [DEBUG   ] ### Retrieved 111 features from v_pc_p0106081_salespettacoli VENEZIA-WFS service.\n",
      "[2025-08-12 18:59:50] [DEBUG   ] ### Retrieved 449 features from v_pc_p0106091_banchept VENEZIA-WFS service.\n",
      "[2025-08-12 18:59:50] [DEBUG   ] ### Retrieved 339 features from v_pc_p0106101_industrie VENEZIA-WFS service.\n",
      "[2025-08-12 18:59:51] [DEBUG   ] ### Retrieved 1101 features from v_pc_p0106111_alberghi VENEZIA-WFS service.\n",
      "[2025-08-12 18:59:51] [DEBUG   ] ### Retrieved 537 features from v_pc_p0106121_localiculto VENEZIA-WFS service.\n",
      "[2025-08-12 19:00:02] [DEBUG   ] ### Retrieved 157325 features from VENEZIA-WFS-CRITICAL-SITES service. Saved at C:\\Users\\LENOVO\\AppData\\Local\\Temp\\safer_buildings\\safer-buildings_VENEZIA-WFS-CRITICAL-SITES__20250812_185957.802877.gpkg.\n"
     ]
    }
   ],
   "source": [
    "gdf_wfs = module_retriever.retrieve_venezia_wfs(\n",
    "    provider = _consts._VENEZIA_WFS_CRITICAL_SITES_PROVIDER,\n",
    "    bbox = gpd.GeoDataFrame(geometry=[box(-180, -90, 180, 90)], crs=\"EPSG:4326\"),\n",
    "    buffer_points = True\n",
    ")"
   ]
  },
  {
   "cell_type": "code",
   "execution_count": 15,
   "id": "848085e5",
   "metadata": {},
   "outputs": [],
   "source": [
    "lotto1_bbox = gpd.read_file('https://s3.us-east-1.amazonaws.com/saferplaces.co/Venezia/shapes/bacino1.shp').to_crs(epsg=4326).total_bounds\n",
    "lotto2_bbox = gpd.read_file('https://s3.us-east-1.amazonaws.com/saferplaces.co/Venezia/shapes/bacino2.shp').to_crs(epsg=4326).total_bounds\n",
    "lotto3_bbox = gpd.read_file('https://s3.us-east-1.amazonaws.com/saferplaces.co/Venezia/shapes/bacino3.shp').to_crs(epsg=4326).total_bounds\n",
    "lotto4_bbox = gpd.read_file('https://s3.us-east-1.amazonaws.com/saferplaces.co/Venezia/shapes/bacino4.shp').to_crs(epsg=4326).total_bounds\n",
    "lotto5_bbox = gpd.read_file('https://s3.us-east-1.amazonaws.com/saferplaces.co/Venezia/shapes/bacino5.shp').to_crs(epsg=4326).total_bounds"
   ]
  },
  {
   "cell_type": "code",
   "execution_count": 16,
   "id": "9a089519",
   "metadata": {},
   "outputs": [
    {
     "name": "stdout",
     "output_type": "stream",
     "text": [
      "Len gdf_wfs_1: 11726\n",
      "Len gdf_wfs_2: 74465\n",
      "Len gdf_wfs_3: 59189\n",
      "Len gdf_wfs_4: 38539\n",
      "Len gdf_wfs_5: 40578\n"
     ]
    }
   ],
   "source": [
    "gdf_wfs_1 = gdf_wfs.cx[lotto1_bbox[0]:lotto1_bbox[2], lotto1_bbox[1]:lotto1_bbox[3]]\n",
    "gdf_wfs_2 = gdf_wfs.cx[lotto2_bbox[0]:lotto2_bbox[2], lotto2_bbox[1]:lotto2_bbox[3]]\n",
    "gdf_wfs_3 = gdf_wfs.cx[lotto3_bbox[0]:lotto3_bbox[2], lotto3_bbox[1]:lotto3_bbox[3]]\n",
    "gdf_wfs_4 = gdf_wfs.cx[lotto4_bbox[0]:lotto4_bbox[2], lotto4_bbox[1]:lotto4_bbox[3]]\n",
    "gdf_wfs_5 = gdf_wfs.cx[lotto5_bbox[0]:lotto5_bbox[2], lotto5_bbox[1]:lotto5_bbox[3]]\n",
    "\n",
    "print(f'Len gdf_wfs_1: {len(gdf_wfs_1)}')\n",
    "print(f'Len gdf_wfs_2: {len(gdf_wfs_2)}')\n",
    "print(f'Len gdf_wfs_3: {len(gdf_wfs_3)}')\n",
    "print(f'Len gdf_wfs_4: {len(gdf_wfs_4)}')\n",
    "print(f'Len gdf_wfs_5: {len(gdf_wfs_5)}')"
   ]
  },
  {
   "cell_type": "code",
   "execution_count": 17,
   "id": "90204b5d",
   "metadata": {},
   "outputs": [],
   "source": [
    "gdf_wfs_1.to_file('building_datasets/venezia_wfs_critical_sites_1.gpkg', driver='GPKG')\n",
    "gdf_wfs_2.to_file('building_datasets/venezia_wfs_critical_sites_2.gpkg', driver='GPKG')\n",
    "gdf_wfs_3.to_file('building_datasets/venezia_wfs_critical_sites_3.gpkg', driver='GPKG')\n",
    "gdf_wfs_4.to_file('building_datasets/venezia_wfs_critical_sites_4.gpkg', driver='GPKG')\n",
    "gdf_wfs_5.to_file('building_datasets/venezia_wfs_critical_sites_5.gpkg', driver='GPKG')"
   ]
  },
  {
   "cell_type": "code",
   "execution_count": 19,
   "id": "de279639",
   "metadata": {},
   "outputs": [
    {
     "name": "stderr",
     "output_type": "stream",
     "text": [
      "[2025-08-12 19:18:09] [DEBUG   ] uploading building_datasets/venezia_wfs_critical_sites_1.gpkg into saferplaces.co/Venezia/shapes/buildings/venezia_wfs_critical_sites_1.gpkg...\n",
      "[2025-08-12 19:18:12] [DEBUG   ] uploading building_datasets/venezia_wfs_critical_sites_2.gpkg into saferplaces.co/Venezia/shapes/buildings/venezia_wfs_critical_sites_2.gpkg...\n",
      "[2025-08-12 19:18:16] [DEBUG   ] uploading building_datasets/venezia_wfs_critical_sites_3.gpkg into saferplaces.co/Venezia/shapes/buildings/venezia_wfs_critical_sites_3.gpkg...\n",
      "[2025-08-12 19:18:19] [DEBUG   ] uploading building_datasets/venezia_wfs_critical_sites_4.gpkg into saferplaces.co/Venezia/shapes/buildings/venezia_wfs_critical_sites_4.gpkg...\n",
      "[2025-08-12 19:18:22] [DEBUG   ] uploading building_datasets/venezia_wfs_critical_sites_5.gpkg into saferplaces.co/Venezia/shapes/buildings/venezia_wfs_critical_sites_5.gpkg...\n"
     ]
    },
    {
     "data": {
      "text/plain": [
       "'building_datasets/venezia_wfs_critical_sites_5.gpkg'"
      ]
     },
     "execution_count": 19,
     "metadata": {},
     "output_type": "execute_result"
    }
   ],
   "source": [
    "module_s3.s3_upload(\n",
    "    filename = 'building_datasets/venezia_wfs_critical_sites_1.gpkg',\n",
    "    uri = 's3://saferplaces.co/Venezia/shapes/buildings/venezia_wfs_critical_sites_1.gpkg'\n",
    ")\n",
    "module_s3.s3_upload(\n",
    "    filename = 'building_datasets/venezia_wfs_critical_sites_2.gpkg',\n",
    "    uri = 's3://saferplaces.co/Venezia/shapes/buildings/venezia_wfs_critical_sites_2.gpkg'\n",
    ")\n",
    "module_s3.s3_upload(\n",
    "    filename = 'building_datasets/venezia_wfs_critical_sites_3.gpkg',\n",
    "    uri = 's3://saferplaces.co/Venezia/shapes/buildings/venezia_wfs_critical_sites_3.gpkg'\n",
    ")\n",
    "module_s3.s3_upload(\n",
    "    filename = 'building_datasets/venezia_wfs_critical_sites_4.gpkg',\n",
    "    uri = 's3://saferplaces.co/Venezia/shapes/buildings/venezia_wfs_critical_sites_4.gpkg'\n",
    ")\n",
    "module_s3.s3_upload(\n",
    "    filename = 'building_datasets/venezia_wfs_critical_sites_5.gpkg',\n",
    "    uri = 's3://saferplaces.co/Venezia/shapes/buildings/venezia_wfs_critical_sites_5.gpkg'\n",
    ")"
   ]
  }
 ],
 "metadata": {
  "kernelspec": {
   "display_name": "venv",
   "language": "python",
   "name": "python3"
  },
  "language_info": {
   "codemirror_mode": {
    "name": "ipython",
    "version": 3
   },
   "file_extension": ".py",
   "mimetype": "text/x-python",
   "name": "python",
   "nbconvert_exporter": "python",
   "pygments_lexer": "ipython3",
   "version": "3.11.0"
  }
 },
 "nbformat": 4,
 "nbformat_minor": 5
}
